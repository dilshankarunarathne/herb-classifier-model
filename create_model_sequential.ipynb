{
 "cells": [
  {
   "cell_type": "code",
   "execution_count": 1,
   "metadata": {
    "id": "JoRKipSeNoku",
    "ExecuteTime": {
     "end_time": "2023-10-20T02:56:28.817014100Z",
     "start_time": "2023-10-20T02:56:28.799112200Z"
    }
   },
   "outputs": [],
   "source": [
    "import os\n",
    "path_to_plants = \"all_data_using\"\n",
    "plant_classes = os.listdir(path_to_plants)"
   ]
  },
  {
   "cell_type": "code",
   "source": [
    "from tensorflow import keras \n",
    "from tensorflow.keras.models import Sequential\n",
    "from tensorflow.keras.layers import Conv2D, MaxPooling2D, Flatten, Dense\n",
    "import numpy as np\n",
    "from tensorflow.keras.preprocessing import image"
   ],
   "metadata": {
    "id": "ntx20WyNxnmY",
    "is_executing": true,
    "ExecuteTime": {
     "start_time": "2023-10-20T02:56:33.716864600Z"
    }
   },
   "execution_count": null,
   "outputs": []
  },
  {
   "cell_type": "code",
   "source": [
    "train_dir = 'dataset/plants'\n",
    "\n",
    "train_datagen = keras.preprocessing.image.ImageDataGenerator(\n",
    "    rescale=1./255,\n",
    ")\n",
    "\n",
    "batch_size = 50\n",
    "img_height = 150\n",
    "img_width = 150\n",
    "\n",
    "train_data_gen = train_datagen.flow_from_directory(\n",
    "    train_dir,\n",
    "    target_size = (img_height, img_width),\n",
    "    batch_size = batch_size,\n",
    "    class_mode = 'categorical',  \n",
    "    shuffle = True\n",
    ")"
   ],
   "metadata": {
    "id": "LhqD2ExcWtX3",
    "colab": {
     "base_uri": "https://localhost:8080/"
    },
    "outputId": "2edc57fd-cccb-47a3-a799-5bef8ebf75ab",
    "ExecuteTime": {
     "end_time": "2023-10-20T02:31:17.298335800Z",
     "start_time": "2023-10-20T02:31:17.234970800Z"
    }
   },
   "execution_count": 3,
   "outputs": [
    {
     "name": "stdout",
     "output_type": "stream",
     "text": [
      "Found 1189 images belonging to 4 classes.\n"
     ]
    }
   ]
  },
  {
   "cell_type": "code",
   "execution_count": 4,
   "metadata": {
    "id": "5abazWqSl8Ig",
    "ExecuteTime": {
     "end_time": "2023-10-20T02:31:21.076524200Z",
     "start_time": "2023-10-20T02:31:20.821167700Z"
    }
   },
   "outputs": [],
   "source": [
    "model = Sequential([\n",
    "    Conv2D(32, (3, 3), activation='relu', input_shape=(150, 150, 3)),\n",
    "    MaxPooling2D(2, 2),\n",
    "    Conv2D(64, (3, 3), activation='relu'),\n",
    "    MaxPooling2D(2, 2),\n",
    "    Conv2D(128, (3, 3), activation='relu'),\n",
    "    MaxPooling2D(2, 2),\n",
    "    Flatten(),\n",
    "    Dense(512, activation='relu'),\n",
    "    Dense(4, activation='softmax') \n",
    "])\n",
    "\n",
    "model.compile(optimizer='adam', loss='categorical_crossentropy', metrics=['accuracy'])"
   ]
  },
  {
   "cell_type": "code",
   "source": [
    "epochs = 12 \n",
    "history = model.fit(\n",
    "    train_data_gen,\n",
    "    epochs=epochs\n",
    ")"
   ],
   "metadata": {
    "colab": {
     "base_uri": "https://localhost:8080/"
    },
    "id": "weUqR1_wCZUg",
    "outputId": "2cdcacb9-41df-4d02-c309-2b0b28603d2e",
    "ExecuteTime": {
     "end_time": "2023-10-20T02:39:46.520870100Z",
     "start_time": "2023-10-20T02:36:23.888005500Z"
    }
   },
   "execution_count": 6,
   "outputs": [
    {
     "name": "stdout",
     "output_type": "stream",
     "text": [
      "Epoch 1/12\n",
      "24/24 [==============================] - 16s 647ms/step - loss: 0.0758 - accuracy: 0.9807\n",
      "Epoch 2/12\n",
      "24/24 [==============================] - 16s 648ms/step - loss: 0.0432 - accuracy: 0.9907\n",
      "Epoch 3/12\n",
      "24/24 [==============================] - 16s 639ms/step - loss: 0.0277 - accuracy: 0.9958\n",
      "Epoch 4/12\n",
      "24/24 [==============================] - 16s 641ms/step - loss: 0.0165 - accuracy: 0.9975\n",
      "Epoch 5/12\n",
      "24/24 [==============================] - 21s 868ms/step - loss: 0.0205 - accuracy: 0.9992\n",
      "Epoch 6/12\n",
      "24/24 [==============================] - 18s 738ms/step - loss: 0.0169 - accuracy: 0.9983\n",
      "Epoch 7/12\n",
      "24/24 [==============================] - 20s 829ms/step - loss: 0.0114 - accuracy: 0.9992\n",
      "Epoch 8/12\n",
      "24/24 [==============================] - 17s 695ms/step - loss: 0.0156 - accuracy: 0.9966\n",
      "Epoch 9/12\n",
      "24/24 [==============================] - 16s 656ms/step - loss: 0.0524 - accuracy: 0.9849\n",
      "Epoch 10/12\n",
      "24/24 [==============================] - 16s 675ms/step - loss: 0.0296 - accuracy: 0.9941\n",
      "Epoch 11/12\n",
      "24/24 [==============================] - 16s 654ms/step - loss: 0.0234 - accuracy: 0.9941\n",
      "Epoch 12/12\n",
      "24/24 [==============================] - 15s 641ms/step - loss: 0.0311 - accuracy: 0.9924\n"
     ]
    }
   ]
  },
  {
   "cell_type": "code",
   "execution_count": 9,
   "metadata": {
    "colab": {
     "base_uri": "https://localhost:8080/"
    },
    "id": "ibo5eM2hFpWW",
    "outputId": "a27a00e3-bed5-4bca-cdde-ecabe83905ec",
    "ExecuteTime": {
     "end_time": "2023-10-12T10:00:51.418047500Z",
     "start_time": "2023-10-12T10:00:45.506723900Z"
    }
   },
   "outputs": [
    {
     "name": "stdout",
     "output_type": "stream",
     "text": [
      "23/23 [==============================] - 6s 226ms/step - loss: 0.0280 - accuracy: 0.9930\n",
      "Training Accuracy: 0.9930374026298523\n"
     ]
    }
   ],
   "source": [
    "train_loss, train_accuracy = model.evaluate(train_data_gen)\n",
    "print(\"Training Accuracy:\", train_accuracy)"
   ]
  },
  {
   "cell_type": "code",
   "source": [
    "img_path = 'dataset/test.png'  \n",
    "input_size = (150, 150)\n",
    "\n",
    "img = image.load_img(img_path, target_size=input_size)\n",
    "\n",
    "img_array = image.img_to_array(img)\n",
    "\n",
    "img_array = np.expand_dims(img_array, axis=0)\n",
    "img_array = img_array / 255.0  \n",
    "\n",
    "predictions = model.predict(img_array)\n",
    "\n",
    "plant_classes = ['akkapana', 'iguru', 'non', 'vishnukanthi']  \n",
    "\n",
    "predicted_class = plant_classes[np.argmax(predictions[0])]\n",
    "print(\"Predicted Class:\", predicted_class)"
   ],
   "metadata": {
    "id": "valO9UMJdHGE",
    "colab": {
     "base_uri": "https://localhost:8080/"
    },
    "outputId": "afe035a6-81bf-4bce-91f4-8117f1d4c652",
    "ExecuteTime": {
     "end_time": "2023-10-12T10:00:52.953390400Z",
     "start_time": "2023-10-12T10:00:52.780351200Z"
    }
   },
   "execution_count": 10,
   "outputs": [
    {
     "name": "stdout",
     "output_type": "stream",
     "text": [
      "1/1 [==============================] - 0s 97ms/step\n",
      "Predicted Class: vishnukanthi\n"
     ]
    }
   ]
  }
 ],
 "metadata": {
  "accelerator": "GPU",
  "colab": {
   "provenance": []
  },
  "kernelspec": {
   "name": "python3",
   "language": "python",
   "display_name": "Python 3 (ipykernel)"
  },
  "language_info": {
   "name": "python"
  }
 },
 "nbformat": 4,
 "nbformat_minor": 0
}

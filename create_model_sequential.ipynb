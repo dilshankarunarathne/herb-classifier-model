{
 "cells": [
  {
   "cell_type": "code",
   "execution_count": 1,
   "metadata": {
    "id": "JoRKipSeNoku",
    "ExecuteTime": {
     "end_time": "2023-10-11T04:01:20.664430200Z",
     "start_time": "2023-10-11T04:01:20.657861500Z"
    }
   },
   "outputs": [],
   "source": [
    "import os\n",
    "path_to_plants = \"all_data_using\"\n",
    "plant_classes = os.listdir(path_to_plants)"
   ]
  },
  {
   "cell_type": "code",
   "source": [
    "import tensorflow as tf        # tensorflow library\n",
    "from tensorflow import keras   # keras hight level natural network API\n",
    "from tensorflow.keras import layers  # type of layers\n"
   ],
   "metadata": {
    "id": "ntx20WyNxnmY",
    "ExecuteTime": {
     "end_time": "2023-10-11T04:01:29.711589Z",
     "start_time": "2023-10-11T04:01:23.773765600Z"
    }
   },
   "execution_count": 2,
   "outputs": []
  },
  {
   "cell_type": "markdown",
   "source": [
    "## train dataset"
   ],
   "metadata": {
    "id": "0guK38LcntHC"
   }
  },
  {
   "cell_type": "code",
   "source": [
    "# Define data directories\n",
    "train_dir = 'dataset/plants'\n",
    "\n",
    "# Create data generators\n",
    "train_datagen = keras.preprocessing.image.ImageDataGenerator(\n",
    "    rescale=1./255,\n",
    "# Normalize pixel values to [0, 1]\n",
    ")\n",
    "\n",
    "# Define batch size and image dimensions\n",
    "batch_size = 50\n",
    "img_height = 150\n",
    "img_width = 150\n",
    "\n",
    "#Load and prepare training data\n",
    "train_data_gen = train_datagen.flow_from_directory(\n",
    "    train_dir,\n",
    "    target_size = (img_height, img_width),\n",
    "    batch_size = batch_size,\n",
    "\n",
    "    class_mode = 'categorical',       # Use 'categorical for multi-class classification shuffle=True\n",
    "    shuffle = True\n",
    ")"
   ],
   "metadata": {
    "id": "LhqD2ExcWtX3",
    "colab": {
     "base_uri": "https://localhost:8080/"
    },
    "outputId": "2edc57fd-cccb-47a3-a799-5bef8ebf75ab",
    "ExecuteTime": {
     "end_time": "2023-10-11T04:01:33.555925300Z",
     "start_time": "2023-10-11T04:01:33.467352600Z"
    }
   },
   "execution_count": 3,
   "outputs": [
    {
     "name": "stdout",
     "output_type": "stream",
     "text": [
      "Found 1149 images belonging to 4 classes.\n"
     ]
    }
   ]
  },
  {
   "cell_type": "markdown",
   "metadata": {
    "id": "AResh2__l4nt"
   },
   "source": [
    "## CNN model"
   ]
  },
  {
   "cell_type": "code",
   "execution_count": 4,
   "metadata": {
    "id": "5abazWqSl8Ig",
    "ExecuteTime": {
     "end_time": "2023-10-11T04:01:37.065055400Z",
     "start_time": "2023-10-11T04:01:36.726586100Z"
    }
   },
   "outputs": [],
   "source": [
    "from tensorflow.keras.models import Sequential\n",
    "from tensorflow.keras.layers import Conv2D, MaxPooling2D, Flatten, Dense\n",
    "\n",
    "model = Sequential([\n",
    "    Conv2D(32, (3, 3), activation='relu', input_shape=(150, 150, 3)),\n",
    "    MaxPooling2D(2, 2),\n",
    "    Conv2D(64, (3, 3), activation='relu'),\n",
    "    MaxPooling2D(2, 2),\n",
    "    Conv2D(128, (3, 3), activation='relu'),\n",
    "    MaxPooling2D(2, 2),\n",
    "    Flatten(),\n",
    "    Dense(512, activation='relu'),\n",
    "    Dense(4, activation='softmax')  # Update the number of classes to 4\n",
    "])\n",
    "\n",
    "model.compile(optimizer='adam', loss='categorical_crossentropy', metrics=['accuracy'])\n"
   ]
  },
  {
   "cell_type": "code",
   "source": [
    "epochs = 10  # You can adjust the number of epochs as needed\n",
    "\n",
    "history = model.fit(\n",
    "    train_data_gen,\n",
    "    epochs=epochs\n",
    ")"
   ],
   "metadata": {
    "colab": {
     "base_uri": "https://localhost:8080/"
    },
    "id": "weUqR1_wCZUg",
    "outputId": "2cdcacb9-41df-4d02-c309-2b0b28603d2e",
    "is_executing": true,
    "ExecuteTime": {
     "start_time": "2023-10-11T04:01:39.081634200Z"
    }
   },
   "execution_count": null,
   "outputs": [
    {
     "name": "stdout",
     "output_type": "stream",
     "text": [
      "Epoch 1/10\n",
      "23/23 [==============================] - 33s 1s/step - loss: 1.2877 - accuracy: 0.4404\n",
      "Epoch 2/10\n",
      " 7/23 [========>.....................] - ETA: 11s - loss: 0.9565 - accuracy: 0.5629"
     ]
    }
   ]
  },
  {
   "cell_type": "code",
   "execution_count": 6,
   "metadata": {
    "colab": {
     "base_uri": "https://localhost:8080/"
    },
    "id": "ibo5eM2hFpWW",
    "outputId": "a27a00e3-bed5-4bca-cdde-ecabe83905ec",
    "ExecuteTime": {
     "end_time": "2023-10-11T03:15:48.683595100Z",
     "start_time": "2023-10-11T03:15:44.646909300Z"
    }
   },
   "outputs": [
    {
     "name": "stdout",
     "output_type": "stream",
     "text": [
      "13/13 [==============================] - 4s 280ms/step - loss: 0.0966 - accuracy: 0.9830\n",
      "Training Accuracy: 0.9829984307289124\n"
     ]
    }
   ],
   "source": [
    "# calculate accracy for training data\n",
    "train_loss, train_accuracy = model.evaluate(train_data_gen)\n",
    "\n",
    "# Print the training accuracy\n",
    "print(\"Training Accuracy:\", train_accuracy)"
   ]
  },
  {
   "cell_type": "markdown",
   "source": [
    "## print clasess\n"
   ],
   "metadata": {
    "id": "FHO0qlVDnzrB"
   }
  },
  {
   "cell_type": "code",
   "source": [
    "# Assuming you have already defined and created train_data_gen\n",
    "\n",
    "# Get the class labels and their corresponding indices\n",
    "class_labels = list(train_data_gen.class_indices.keys())\n",
    "\n",
    "# Print the class labels\n",
    "print(\"Class Labels:\")\n",
    "for label in class_labels:\n",
    "    print(label)"
   ],
   "metadata": {
    "colab": {
     "base_uri": "https://localhost:8080/"
    },
    "id": "V8soyEPXbGt_",
    "outputId": "82be45bb-19bc-4fe7-c69e-3f7d8014bb18",
    "ExecuteTime": {
     "end_time": "2023-10-11T03:15:54.196808500Z",
     "start_time": "2023-10-11T03:15:54.194709500Z"
    }
   },
   "execution_count": 7,
   "outputs": [
    {
     "name": "stdout",
     "output_type": "stream",
     "text": [
      "Class Labels:\n",
      "akkapana\n",
      "iguru\n",
      "non\n",
      "vishnukanthi\n"
     ]
    }
   ]
  },
  {
   "cell_type": "markdown",
   "source": [
    "## predict class without segmentation"
   ],
   "metadata": {
    "id": "IXYZ1fDJiHvJ"
   }
  },
  {
   "cell_type": "code",
   "source": [
    "import numpy as np\n",
    "from tensorflow.keras.preprocessing import image\n",
    "\n",
    "# Load a sample image\n",
    "img_path = 'dataset/test.png'  # Replace with the actual path to your image file\n",
    "input_size = (150, 150)\n",
    "\n",
    "img = image.load_img(img_path, target_size=input_size)\n",
    "\n",
    "img_array = image.img_to_array(img)\n",
    "\n",
    "# Expand dimensions and normalize (similar to your training data preprocessing)\n",
    "img_array = np.expand_dims(img_array, axis=0)\n",
    "img_array = img_array / 255.0  # Normalize pixel values to [0, 1]\n",
    "\n",
    "# Make predictions\n",
    "predictions = model.predict(img_array)\n",
    "\n",
    "# Assuming you have a list of class labels\n",
    "plant_classes = ['akkapana', 'iguru', 'non', 'vishnukanthi']  # Update with your actual class labels\n",
    "\n",
    "predicted_class = plant_classes[np.argmax(predictions[0])]\n",
    "print(\"Predicted Class:\", predicted_class)"
   ],
   "metadata": {
    "id": "valO9UMJdHGE",
    "colab": {
     "base_uri": "https://localhost:8080/"
    },
    "outputId": "afe035a6-81bf-4bce-91f4-8117f1d4c652",
    "ExecuteTime": {
     "end_time": "2023-10-11T03:16:00.920501800Z",
     "start_time": "2023-10-11T03:16:00.763086300Z"
    }
   },
   "execution_count": 8,
   "outputs": [
    {
     "name": "stdout",
     "output_type": "stream",
     "text": [
      "1/1 [==============================] - 0s 110ms/step\n",
      "Predicted Class: vishnukanthi\n"
     ]
    }
   ]
  },
  {
   "cell_type": "markdown",
   "metadata": {
    "id": "OzzMC2yxJgII"
   },
   "source": [
    "# training model -01"
   ]
  },
  {
   "cell_type": "markdown",
   "metadata": {
    "id": "bYNEIIqeKe5G"
   },
   "source": [
    "### epoch = 50"
   ]
  },
  {
   "cell_type": "code",
   "source": [],
   "metadata": {
    "id": "yCGI3WOJr2Er"
   },
   "execution_count": null,
   "outputs": []
  },
  {
   "cell_type": "code",
   "execution_count": null,
   "metadata": {
    "colab": {
     "base_uri": "https://localhost:8080/"
    },
    "id": "HRp3l2pyJPnl",
    "outputId": "a3f3a5e2-5a13-4e26-e275-c38964c4c505"
   },
   "outputs": [
    {
     "output_type": "stream",
     "name": "stdout",
     "text": [
      "4/4 [==============================] - 1s 266ms/step - loss: 0.7460 - accuracy: 0.6667\n",
      "Validation Accuracy: 0.6666666865348816\n"
     ]
    }
   ],
   "source": [
    "# calculate accracy for training data\n",
    "train_loss, train_accuracy = model.evaluate(train_data_gen)\n",
    "\n",
    "# Print the training accuracy\n",
    "print(\"Training Accuracy:\", train_accuracy)"
   ]
  },
  {
   "cell_type": "markdown",
   "source": [
    "# Traning model - 02\n"
   ],
   "metadata": {
    "id": "nLLhMy_wsUno"
   }
  },
  {
   "cell_type": "markdown",
   "source": [
    "## epochs = 100"
   ],
   "metadata": {
    "id": "Tw0jJiONqT1J"
   }
  },
  {
   "cell_type": "code",
   "execution_count": null,
   "metadata": {
    "id": "0k89H5SjKMlp",
    "colab": {
     "base_uri": "https://localhost:8080/"
    },
    "outputId": "78588fa2-bb82-4dcd-cadd-cfcb96abfeb4"
   },
   "outputs": [
    {
     "output_type": "stream",
     "name": "stdout",
     "text": [
      "Epoch 1/100\n",
      "15/15 [==============================] - 9s 619ms/step - loss: 0.5358 - accuracy: 0.7928 - val_loss: 0.3621 - val_accuracy: 0.8333\n",
      "Epoch 2/100\n",
      "15/15 [==============================] - 10s 651ms/step - loss: 0.3202 - accuracy: 0.8943 - val_loss: 0.4004 - val_accuracy: 0.8417\n",
      "Epoch 3/100\n",
      "15/15 [==============================] - 7s 497ms/step - loss: 0.2705 - accuracy: 0.8985 - val_loss: 0.3243 - val_accuracy: 0.9083\n",
      "Epoch 4/100\n",
      "15/15 [==============================] - 9s 601ms/step - loss: 0.2429 - accuracy: 0.9027 - val_loss: 0.1565 - val_accuracy: 0.9333\n",
      "Epoch 5/100\n",
      "15/15 [==============================] - 8s 530ms/step - loss: 0.2384 - accuracy: 0.9070 - val_loss: 0.5706 - val_accuracy: 0.8250\n",
      "Epoch 6/100\n",
      "15/15 [==============================] - 10s 626ms/step - loss: 0.3201 - accuracy: 0.8795 - val_loss: 0.3690 - val_accuracy: 0.8833\n",
      "Epoch 7/100\n",
      "15/15 [==============================] - 10s 682ms/step - loss: 0.2357 - accuracy: 0.9049 - val_loss: 0.2985 - val_accuracy: 0.8750\n",
      "Epoch 8/100\n",
      "15/15 [==============================] - 10s 711ms/step - loss: 0.1470 - accuracy: 0.9471 - val_loss: 0.2824 - val_accuracy: 0.8833\n",
      "Epoch 9/100\n",
      "15/15 [==============================] - 8s 522ms/step - loss: 0.1317 - accuracy: 0.9683 - val_loss: 0.2541 - val_accuracy: 0.9167\n",
      "Epoch 10/100\n",
      "15/15 [==============================] - 9s 634ms/step - loss: 0.1205 - accuracy: 0.9725 - val_loss: 0.1995 - val_accuracy: 0.9250\n",
      "Epoch 11/100\n",
      "15/15 [==============================] - 9s 632ms/step - loss: 0.0707 - accuracy: 0.9789 - val_loss: 0.2911 - val_accuracy: 0.9083\n",
      "Epoch 12/100\n",
      "15/15 [==============================] - 7s 495ms/step - loss: 0.0807 - accuracy: 0.9746 - val_loss: 0.3477 - val_accuracy: 0.9000\n",
      "Epoch 13/100\n",
      "15/15 [==============================] - 9s 625ms/step - loss: 0.0838 - accuracy: 0.9662 - val_loss: 0.3319 - val_accuracy: 0.9000\n",
      "Epoch 14/100\n",
      "15/15 [==============================] - 8s 531ms/step - loss: 0.0738 - accuracy: 0.9746 - val_loss: 0.3457 - val_accuracy: 0.9000\n",
      "Epoch 15/100\n",
      "15/15 [==============================] - 8s 504ms/step - loss: 0.1022 - accuracy: 0.9789 - val_loss: 0.4258 - val_accuracy: 0.9000\n",
      "Epoch 16/100\n",
      "15/15 [==============================] - 9s 598ms/step - loss: 0.0886 - accuracy: 0.9683 - val_loss: 0.2921 - val_accuracy: 0.9000\n",
      "Epoch 17/100\n",
      "15/15 [==============================] - 8s 517ms/step - loss: 0.0822 - accuracy: 0.9725 - val_loss: 0.4086 - val_accuracy: 0.9000\n",
      "Epoch 18/100\n",
      "15/15 [==============================] - 9s 630ms/step - loss: 0.0797 - accuracy: 0.9767 - val_loss: 0.3266 - val_accuracy: 0.9250\n",
      "Epoch 19/100\n",
      "15/15 [==============================] - 9s 588ms/step - loss: 0.0477 - accuracy: 0.9852 - val_loss: 0.4717 - val_accuracy: 0.9167\n",
      "Epoch 20/100\n",
      "15/15 [==============================] - 7s 496ms/step - loss: 0.0724 - accuracy: 0.9725 - val_loss: 0.3180 - val_accuracy: 0.9167\n",
      "Epoch 21/100\n",
      "15/15 [==============================] - 8s 519ms/step - loss: 0.0437 - accuracy: 0.9831 - val_loss: 0.4242 - val_accuracy: 0.9167\n",
      "Epoch 22/100\n",
      "15/15 [==============================] - 9s 593ms/step - loss: 0.0431 - accuracy: 0.9915 - val_loss: 0.4591 - val_accuracy: 0.9000\n",
      "Epoch 23/100\n",
      "15/15 [==============================] - 7s 490ms/step - loss: 0.0456 - accuracy: 0.9831 - val_loss: 0.3238 - val_accuracy: 0.9333\n",
      "Epoch 24/100\n",
      "15/15 [==============================] - 8s 516ms/step - loss: 0.1427 - accuracy: 0.9641 - val_loss: 0.3597 - val_accuracy: 0.8833\n",
      "Epoch 25/100\n",
      "15/15 [==============================] - 9s 591ms/step - loss: 0.1345 - accuracy: 0.9598 - val_loss: 0.4418 - val_accuracy: 0.8917\n",
      "Epoch 26/100\n",
      "15/15 [==============================] - 8s 513ms/step - loss: 0.1082 - accuracy: 0.9577 - val_loss: 0.3110 - val_accuracy: 0.9167\n",
      "Epoch 27/100\n",
      "15/15 [==============================] - 9s 598ms/step - loss: 0.0726 - accuracy: 0.9746 - val_loss: 0.3638 - val_accuracy: 0.9083\n",
      "Epoch 28/100\n",
      "15/15 [==============================] - 10s 679ms/step - loss: 0.0506 - accuracy: 0.9810 - val_loss: 0.3204 - val_accuracy: 0.9167\n",
      "Epoch 29/100\n",
      "15/15 [==============================] - 7s 504ms/step - loss: 0.0386 - accuracy: 0.9873 - val_loss: 0.3556 - val_accuracy: 0.9083\n",
      "Epoch 30/100\n",
      "15/15 [==============================] - 9s 591ms/step - loss: 0.0692 - accuracy: 0.9704 - val_loss: 0.5989 - val_accuracy: 0.9000\n",
      "Epoch 31/100\n",
      "15/15 [==============================] - 10s 656ms/step - loss: 0.0496 - accuracy: 0.9831 - val_loss: 0.2023 - val_accuracy: 0.9417\n",
      "Epoch 32/100\n",
      "15/15 [==============================] - 7s 500ms/step - loss: 0.0582 - accuracy: 0.9789 - val_loss: 0.5836 - val_accuracy: 0.9083\n",
      "Epoch 33/100\n",
      "15/15 [==============================] - 8s 527ms/step - loss: 0.1364 - accuracy: 0.9556 - val_loss: 0.3356 - val_accuracy: 0.9083\n",
      "Epoch 34/100\n",
      "15/15 [==============================] - 9s 594ms/step - loss: 0.0736 - accuracy: 0.9725 - val_loss: 0.1941 - val_accuracy: 0.9250\n",
      "Epoch 35/100\n",
      "15/15 [==============================] - 8s 525ms/step - loss: 0.1065 - accuracy: 0.9598 - val_loss: 0.2363 - val_accuracy: 0.9417\n",
      "Epoch 36/100\n",
      "15/15 [==============================] - 9s 586ms/step - loss: 0.1110 - accuracy: 0.9598 - val_loss: 0.2825 - val_accuracy: 0.9083\n",
      "Epoch 37/100\n",
      "15/15 [==============================] - 8s 533ms/step - loss: 0.0992 - accuracy: 0.9619 - val_loss: 0.3215 - val_accuracy: 0.9167\n",
      "Epoch 38/100\n",
      "15/15 [==============================] - 7s 502ms/step - loss: 0.1082 - accuracy: 0.9619 - val_loss: 0.2702 - val_accuracy: 0.9083\n",
      "Epoch 39/100\n",
      "15/15 [==============================] - 9s 596ms/step - loss: 0.0521 - accuracy: 0.9831 - val_loss: 0.3244 - val_accuracy: 0.9083\n",
      "Epoch 40/100\n",
      "15/15 [==============================] - 8s 515ms/step - loss: 0.0427 - accuracy: 0.9852 - val_loss: 0.2392 - val_accuracy: 0.9333\n",
      "Epoch 41/100\n",
      "15/15 [==============================] - 7s 499ms/step - loss: 0.0601 - accuracy: 0.9789 - val_loss: 0.1706 - val_accuracy: 0.9417\n",
      "Epoch 42/100\n",
      "15/15 [==============================] - 9s 603ms/step - loss: 0.0707 - accuracy: 0.9704 - val_loss: 0.3278 - val_accuracy: 0.9000\n",
      "Epoch 43/100\n",
      "15/15 [==============================] - 10s 648ms/step - loss: 0.0536 - accuracy: 0.9873 - val_loss: 0.2221 - val_accuracy: 0.9250\n",
      "Epoch 44/100\n",
      "15/15 [==============================] - 7s 498ms/step - loss: 0.0413 - accuracy: 0.9894 - val_loss: 0.2744 - val_accuracy: 0.9250\n",
      "Epoch 45/100\n",
      "15/15 [==============================] - 9s 597ms/step - loss: 0.0357 - accuracy: 0.9852 - val_loss: 0.3324 - val_accuracy: 0.9250\n",
      "Epoch 46/100\n",
      "15/15 [==============================] - 9s 626ms/step - loss: 0.0559 - accuracy: 0.9789 - val_loss: 0.3815 - val_accuracy: 0.9083\n",
      "Epoch 47/100\n",
      "15/15 [==============================] - 7s 493ms/step - loss: 0.0434 - accuracy: 0.9852 - val_loss: 0.3368 - val_accuracy: 0.9083\n",
      "Epoch 48/100\n",
      "15/15 [==============================] - 9s 592ms/step - loss: 0.0314 - accuracy: 0.9915 - val_loss: 0.2314 - val_accuracy: 0.9250\n",
      "Epoch 49/100\n",
      "15/15 [==============================] - 7s 499ms/step - loss: 0.0462 - accuracy: 0.9915 - val_loss: 0.3663 - val_accuracy: 0.9250\n",
      "Epoch 50/100\n",
      "15/15 [==============================] - 9s 577ms/step - loss: 0.0562 - accuracy: 0.9789 - val_loss: 0.4199 - val_accuracy: 0.9167\n",
      "Epoch 51/100\n",
      "15/15 [==============================] - 8s 560ms/step - loss: 0.1018 - accuracy: 0.9619 - val_loss: 0.1592 - val_accuracy: 0.9500\n",
      "Epoch 52/100\n",
      "15/15 [==============================] - 8s 501ms/step - loss: 0.1330 - accuracy: 0.9556 - val_loss: 0.2895 - val_accuracy: 0.9083\n",
      "Epoch 53/100\n",
      "15/15 [==============================] - 9s 601ms/step - loss: 0.0782 - accuracy: 0.9704 - val_loss: 0.1659 - val_accuracy: 0.9500\n",
      "Epoch 54/100\n",
      "15/15 [==============================] - 7s 500ms/step - loss: 0.0786 - accuracy: 0.9746 - val_loss: 0.1909 - val_accuracy: 0.9167\n",
      "Epoch 55/100\n",
      "15/15 [==============================] - 9s 582ms/step - loss: 0.0543 - accuracy: 0.9810 - val_loss: 0.2513 - val_accuracy: 0.9333\n",
      "Epoch 56/100\n",
      "15/15 [==============================] - 9s 633ms/step - loss: 0.0506 - accuracy: 0.9810 - val_loss: 0.3033 - val_accuracy: 0.9333\n",
      "Epoch 57/100\n",
      "15/15 [==============================] - 7s 496ms/step - loss: 0.1256 - accuracy: 0.9683 - val_loss: 0.1758 - val_accuracy: 0.9417\n",
      "Epoch 58/100\n",
      "15/15 [==============================] - 9s 596ms/step - loss: 0.1992 - accuracy: 0.9302 - val_loss: 0.4353 - val_accuracy: 0.8667\n",
      "Epoch 59/100\n",
      "15/15 [==============================] - 10s 653ms/step - loss: 0.1220 - accuracy: 0.9493 - val_loss: 0.1996 - val_accuracy: 0.9333\n",
      "Epoch 60/100\n",
      "15/15 [==============================] - 7s 496ms/step - loss: 0.0955 - accuracy: 0.9662 - val_loss: 0.3578 - val_accuracy: 0.9250\n",
      "Epoch 61/100\n",
      "15/15 [==============================] - 9s 597ms/step - loss: 0.0421 - accuracy: 0.9873 - val_loss: 0.3061 - val_accuracy: 0.9083\n",
      "Epoch 62/100\n",
      "15/15 [==============================] - 8s 517ms/step - loss: 0.0409 - accuracy: 0.9852 - val_loss: 0.2273 - val_accuracy: 0.9250\n",
      "Epoch 63/100\n",
      "15/15 [==============================] - 8s 509ms/step - loss: 0.0304 - accuracy: 0.9915 - val_loss: 0.2949 - val_accuracy: 0.9167\n",
      "Epoch 64/100\n",
      "15/15 [==============================] - 9s 586ms/step - loss: 0.0187 - accuracy: 0.9958 - val_loss: 0.2212 - val_accuracy: 0.9417\n",
      "Epoch 65/100\n",
      "15/15 [==============================] - 7s 503ms/step - loss: 0.0182 - accuracy: 0.9958 - val_loss: 0.2808 - val_accuracy: 0.9083\n",
      "Epoch 66/100\n",
      "15/15 [==============================] - 7s 497ms/step - loss: 0.0597 - accuracy: 0.9852 - val_loss: 0.3709 - val_accuracy: 0.9250\n",
      "Epoch 67/100\n",
      "15/15 [==============================] - 9s 588ms/step - loss: 0.0629 - accuracy: 0.9767 - val_loss: 0.4288 - val_accuracy: 0.9167\n",
      "Epoch 68/100\n",
      "15/15 [==============================] - 8s 519ms/step - loss: 0.0303 - accuracy: 0.9873 - val_loss: 0.2434 - val_accuracy: 0.9417\n",
      "Epoch 69/100\n",
      "15/15 [==============================] - 7s 498ms/step - loss: 0.0239 - accuracy: 0.9958 - val_loss: 0.3646 - val_accuracy: 0.9333\n",
      "Epoch 70/100\n",
      "15/15 [==============================] - 9s 587ms/step - loss: 0.0447 - accuracy: 0.9937 - val_loss: 0.2424 - val_accuracy: 0.9250\n",
      "Epoch 71/100\n",
      "15/15 [==============================] - 8s 554ms/step - loss: 0.0197 - accuracy: 0.9937 - val_loss: 0.2378 - val_accuracy: 0.9167\n",
      "Epoch 72/100\n",
      "15/15 [==============================] - 7s 498ms/step - loss: 0.0389 - accuracy: 0.9873 - val_loss: 0.3998 - val_accuracy: 0.9167\n",
      "Epoch 73/100\n",
      "15/15 [==============================] - 9s 603ms/step - loss: 0.0395 - accuracy: 0.9852 - val_loss: 0.1736 - val_accuracy: 0.9417\n",
      "Epoch 74/100\n",
      "15/15 [==============================] - 8s 517ms/step - loss: 0.0529 - accuracy: 0.9852 - val_loss: 0.4957 - val_accuracy: 0.9250\n",
      "Epoch 75/100\n",
      "15/15 [==============================] - 7s 502ms/step - loss: 0.0425 - accuracy: 0.9831 - val_loss: 0.3465 - val_accuracy: 0.9250\n",
      "Epoch 76/100\n",
      "15/15 [==============================] - 8s 531ms/step - loss: 0.0241 - accuracy: 0.9958 - val_loss: 0.3496 - val_accuracy: 0.9250\n",
      "Epoch 77/100\n",
      "15/15 [==============================] - 9s 587ms/step - loss: 0.0482 - accuracy: 0.9873 - val_loss: 0.6460 - val_accuracy: 0.9083\n",
      "Epoch 78/100\n",
      "15/15 [==============================] - 7s 498ms/step - loss: 0.0709 - accuracy: 0.9746 - val_loss: 0.5248 - val_accuracy: 0.9000\n",
      "Epoch 79/100\n",
      "15/15 [==============================] - 8s 529ms/step - loss: 0.0791 - accuracy: 0.9767 - val_loss: 0.4150 - val_accuracy: 0.9167\n",
      "Epoch 80/100\n",
      "15/15 [==============================] - 9s 594ms/step - loss: 0.0503 - accuracy: 0.9894 - val_loss: 0.2223 - val_accuracy: 0.9250\n",
      "Epoch 81/100\n",
      "15/15 [==============================] - 7s 500ms/step - loss: 0.0417 - accuracy: 0.9894 - val_loss: 0.3309 - val_accuracy: 0.9000\n",
      "Epoch 82/100\n",
      "15/15 [==============================] - 8s 525ms/step - loss: 0.0409 - accuracy: 0.9831 - val_loss: 0.3962 - val_accuracy: 0.9083\n",
      "Epoch 83/100\n",
      "15/15 [==============================] - 9s 598ms/step - loss: 0.1514 - accuracy: 0.9556 - val_loss: 0.5026 - val_accuracy: 0.8750\n",
      "Epoch 84/100\n",
      "15/15 [==============================] - 7s 500ms/step - loss: 0.0664 - accuracy: 0.9767 - val_loss: 0.5580 - val_accuracy: 0.8833\n",
      "Epoch 85/100\n",
      "15/15 [==============================] - 8s 549ms/step - loss: 0.0454 - accuracy: 0.9831 - val_loss: 0.5162 - val_accuracy: 0.9000\n",
      "Epoch 86/100\n",
      "15/15 [==============================] - 9s 601ms/step - loss: 0.0458 - accuracy: 0.9789 - val_loss: 0.4570 - val_accuracy: 0.9000\n",
      "Epoch 87/100\n",
      "15/15 [==============================] - 8s 508ms/step - loss: 0.0769 - accuracy: 0.9704 - val_loss: 0.5544 - val_accuracy: 0.8917\n",
      "Epoch 88/100\n",
      "15/15 [==============================] - 9s 618ms/step - loss: 0.1030 - accuracy: 0.9598 - val_loss: 0.3375 - val_accuracy: 0.9167\n",
      "Epoch 89/100\n",
      "15/15 [==============================] - 10s 652ms/step - loss: 0.0564 - accuracy: 0.9831 - val_loss: 0.2939 - val_accuracy: 0.9000\n",
      "Epoch 90/100\n",
      "15/15 [==============================] - 8s 506ms/step - loss: 0.0456 - accuracy: 0.9873 - val_loss: 0.4507 - val_accuracy: 0.9083\n",
      "Epoch 91/100\n",
      "15/15 [==============================] - 9s 589ms/step - loss: 0.0388 - accuracy: 0.9894 - val_loss: 0.2390 - val_accuracy: 0.9333\n",
      "Epoch 92/100\n",
      "15/15 [==============================] - 9s 613ms/step - loss: 0.0527 - accuracy: 0.9915 - val_loss: 0.1639 - val_accuracy: 0.9333\n",
      "Epoch 93/100\n",
      "15/15 [==============================] - 7s 507ms/step - loss: 0.0290 - accuracy: 0.9915 - val_loss: 0.2879 - val_accuracy: 0.9167\n",
      "Epoch 94/100\n",
      "15/15 [==============================] - 8s 526ms/step - loss: 0.0515 - accuracy: 0.9831 - val_loss: 0.3104 - val_accuracy: 0.9250\n",
      "Epoch 95/100\n",
      "15/15 [==============================] - 9s 596ms/step - loss: 0.0359 - accuracy: 0.9915 - val_loss: 0.2635 - val_accuracy: 0.9333\n",
      "Epoch 96/100\n",
      "15/15 [==============================] - 8s 529ms/step - loss: 0.0228 - accuracy: 0.9937 - val_loss: 0.2842 - val_accuracy: 0.9333\n",
      "Epoch 97/100\n",
      "15/15 [==============================] - 9s 558ms/step - loss: 0.0170 - accuracy: 0.9937 - val_loss: 0.5077 - val_accuracy: 0.9250\n",
      "Epoch 98/100\n",
      "15/15 [==============================] - 9s 584ms/step - loss: 0.0767 - accuracy: 0.9704 - val_loss: 0.6208 - val_accuracy: 0.8917\n",
      "Epoch 99/100\n",
      "15/15 [==============================] - 7s 499ms/step - loss: 0.0433 - accuracy: 0.9873 - val_loss: 0.4111 - val_accuracy: 0.9000\n",
      "Epoch 100/100\n",
      "15/15 [==============================] - 8s 547ms/step - loss: 0.0284 - accuracy: 0.9894 - val_loss: 0.3784 - val_accuracy: 0.9167\n"
     ]
    }
   ],
   "source": [
    "epochs = 100  # You can adjust the number of epochs as needed\n",
    "\n",
    "history = model.fit(\n",
    "    train_data_gen,\n",
    "    epochs=epochs\n",
    ")"
   ]
  },
  {
   "cell_type": "code",
   "source": [
    "# calculate accracy for training data\n",
    "train_loss, train_accuracy = model.evaluate(train_data_gen)\n",
    "\n",
    "# Print the training accuracy\n",
    "print(\"Training Accuracy:\", train_accuracy)"
   ],
   "metadata": {
    "colab": {
     "base_uri": "https://localhost:8080/"
    },
    "id": "3InOfG4qvvV3",
    "outputId": "cdd6f428-ba6b-47b4-b55c-c8bd7789f465",
    "ExecuteTime": {
     "end_time": "2023-09-21T01:32:56.055703800Z",
     "start_time": "2023-09-21T01:32:53.315141800Z"
    }
   },
   "execution_count": 11,
   "outputs": [
    {
     "name": "stdout",
     "output_type": "stream",
     "text": [
      "10/10 [==============================] - 2s 240ms/step - loss: 0.0468 - accuracy: 0.9892\n",
      "Training Accuracy: 0.9892473220825195\n"
     ]
    }
   ]
  },
  {
   "cell_type": "code",
   "source": [
    "model.save(\"models/classifier_sequential.h5\")"
   ],
   "metadata": {
    "colab": {
     "base_uri": "https://localhost:8080/"
    },
    "id": "3aUS-afZT-Ap",
    "outputId": "dface3f0-d040-400f-eaaf-acbdf193437c",
    "ExecuteTime": {
     "end_time": "2023-09-21T01:32:59.780899Z",
     "start_time": "2023-09-21T01:32:59.446130400Z"
    }
   },
   "execution_count": 12,
   "outputs": [
    {
     "name": "stderr",
     "output_type": "stream",
     "text": [
      "C:\\Dev\\Python\\Lib\\site-packages\\keras\\src\\engine\\training.py:3000: UserWarning: You are saving your model as an HDF5 file via `model.save()`. This file format is considered legacy. We recommend using instead the native Keras format, e.g. `model.save('my_model.keras')`.\n",
      "  saving_api.save_model(\n"
     ]
    }
   ]
  },
  {
   "cell_type": "code",
   "execution_count": null,
   "outputs": [],
   "source": [],
   "metadata": {
    "collapsed": false
   }
  }
 ],
 "metadata": {
  "accelerator": "GPU",
  "colab": {
   "provenance": []
  },
  "kernelspec": {
   "name": "python3",
   "language": "python",
   "display_name": "Python 3 (ipykernel)"
  },
  "language_info": {
   "name": "python"
  }
 },
 "nbformat": 4,
 "nbformat_minor": 0
}

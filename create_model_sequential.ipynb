{
 "cells": [
  {
   "cell_type": "code",
   "execution_count": 1,
   "metadata": {
    "id": "JoRKipSeNoku",
    "ExecuteTime": {
     "end_time": "2023-10-12T09:54:26.997837200Z",
     "start_time": "2023-10-12T09:54:26.995053100Z"
    }
   },
   "outputs": [],
   "source": [
    "import os\n",
    "path_to_plants = \"all_data_using\"\n",
    "plant_classes = os.listdir(path_to_plants)"
   ]
  },
  {
   "cell_type": "code",
   "source": [
    "import tensorflow as tf \n",
    "from tensorflow import keras  \n",
    "from tensorflow.keras import layers  # type of layers\n",
    "from tensorflow.keras.models import Sequential\n",
    "from tensorflow.keras.layers import Conv2D, MaxPooling2D, Flatten, Dense"
   ],
   "metadata": {
    "id": "ntx20WyNxnmY",
    "ExecuteTime": {
     "end_time": "2023-10-12T09:55:00.231106700Z",
     "start_time": "2023-10-12T09:54:56.644621100Z"
    }
   },
   "execution_count": 2,
   "outputs": []
  },
  {
   "cell_type": "code",
   "source": [
    "train_dir = 'dataset/plants'\n",
    "\n",
    "train_datagen = keras.preprocessing.image.ImageDataGenerator(\n",
    "    rescale=1./255,\n",
    ")\n",
    "\n",
    "batch_size = 50\n",
    "img_height = 150\n",
    "img_width = 150\n",
    "\n",
    "train_data_gen = train_datagen.flow_from_directory(\n",
    "    train_dir,\n",
    "    target_size = (img_height, img_width),\n",
    "    batch_size = batch_size,\n",
    "    class_mode = 'categorical',  \n",
    "    shuffle = True\n",
    ")"
   ],
   "metadata": {
    "id": "LhqD2ExcWtX3",
    "colab": {
     "base_uri": "https://localhost:8080/"
    },
    "outputId": "2edc57fd-cccb-47a3-a799-5bef8ebf75ab",
    "ExecuteTime": {
     "end_time": "2023-10-12T09:55:02.340711Z",
     "start_time": "2023-10-12T09:55:02.290561400Z"
    }
   },
   "execution_count": 3,
   "outputs": [
    {
     "name": "stdout",
     "output_type": "stream",
     "text": [
      "Found 1149 images belonging to 4 classes.\n"
     ]
    }
   ]
  },
  {
   "cell_type": "code",
   "execution_count": 4,
   "metadata": {
    "id": "5abazWqSl8Ig",
    "ExecuteTime": {
     "end_time": "2023-10-11T04:01:37.065055400Z",
     "start_time": "2023-10-11T04:01:36.726586100Z"
    }
   },
   "outputs": [],
   "source": [
    "model = Sequential([\n",
    "    Conv2D(32, (3, 3), activation='relu', input_shape=(150, 150, 3)),\n",
    "    MaxPooling2D(2, 2),\n",
    "    Conv2D(64, (3, 3), activation='relu'),\n",
    "    MaxPooling2D(2, 2),\n",
    "    Conv2D(128, (3, 3), activation='relu'),\n",
    "    MaxPooling2D(2, 2),\n",
    "    Flatten(),\n",
    "    Dense(512, activation='relu'),\n",
    "    Dense(4, activation='softmax') \n",
    "])\n",
    "\n",
    "model.compile(optimizer='adam', loss='categorical_crossentropy', metrics=['accuracy'])"
   ]
  },
  {
   "cell_type": "code",
   "source": [
    "epochs = 10  \n",
    "history = model.fit(\n",
    "    train_data_gen,\n",
    "    epochs=epochs\n",
    ")"
   ],
   "metadata": {
    "colab": {
     "base_uri": "https://localhost:8080/"
    },
    "id": "weUqR1_wCZUg",
    "outputId": "2cdcacb9-41df-4d02-c309-2b0b28603d2e",
    "ExecuteTime": {
     "end_time": "2023-10-11T04:05:42.279123500Z",
     "start_time": "2023-10-11T04:01:39.081634200Z"
    }
   },
   "execution_count": 5,
   "outputs": [
    {
     "name": "stdout",
     "output_type": "stream",
     "text": [
      "Epoch 1/10\n",
      "23/23 [==============================] - 33s 1s/step - loss: 1.2877 - accuracy: 0.4404\n",
      "Epoch 2/10\n",
      "23/23 [==============================] - 25s 1s/step - loss: 0.8123 - accuracy: 0.6484\n",
      "Epoch 3/10\n",
      "23/23 [==============================] - 20s 871ms/step - loss: 0.5511 - accuracy: 0.7842\n",
      "Epoch 4/10\n",
      "23/23 [==============================] - 20s 863ms/step - loss: 0.4245 - accuracy: 0.8390\n",
      "Epoch 5/10\n",
      "23/23 [==============================] - 19s 837ms/step - loss: 0.2708 - accuracy: 0.9121\n",
      "Epoch 6/10\n",
      "23/23 [==============================] - 26s 1s/step - loss: 0.1795 - accuracy: 0.9443\n",
      "Epoch 7/10\n",
      "23/23 [==============================] - 20s 779ms/step - loss: 0.1145 - accuracy: 0.9652\n",
      "Epoch 8/10\n",
      "23/23 [==============================] - 21s 923ms/step - loss: 0.0543 - accuracy: 0.9861\n",
      "Epoch 9/10\n",
      "23/23 [==============================] - 23s 1s/step - loss: 0.0401 - accuracy: 0.9869\n",
      "Epoch 10/10\n",
      "23/23 [==============================] - 34s 2s/step - loss: 0.0297 - accuracy: 0.9965\n"
     ]
    }
   ]
  },
  {
   "cell_type": "code",
   "execution_count": 6,
   "metadata": {
    "colab": {
     "base_uri": "https://localhost:8080/"
    },
    "id": "ibo5eM2hFpWW",
    "outputId": "a27a00e3-bed5-4bca-cdde-ecabe83905ec",
    "ExecuteTime": {
     "end_time": "2023-10-11T04:07:14.589077600Z",
     "start_time": "2023-10-11T04:07:05.768044Z"
    }
   },
   "outputs": [
    {
     "name": "stdout",
     "output_type": "stream",
     "text": [
      "23/23 [==============================] - 9s 359ms/step - loss: 0.0141 - accuracy: 0.9991\n",
      "Training Accuracy: 0.9991296529769897\n"
     ]
    }
   ],
   "source": [
    "train_loss, train_accuracy = model.evaluate(train_data_gen)\n",
    "print(\"Training Accuracy:\", train_accuracy)"
   ]
  },
  {
   "cell_type": "code",
   "source": [
    "import numpy as np\n",
    "from tensorflow.keras.preprocessing import image\n",
    "\n",
    "img_path = 'dataset/test.png'  \n",
    "input_size = (150, 150)\n",
    "\n",
    "img = image.load_img(img_path, target_size=input_size)\n",
    "\n",
    "img_array = image.img_to_array(img)\n",
    "\n",
    "img_array = np.expand_dims(img_array, axis=0)\n",
    "img_array = img_array / 255.0  \n",
    "\n",
    "predictions = model.predict(img_array)\n",
    "\n",
    "plant_classes = ['akkapana', 'iguru', 'non', 'vishnukanthi']  \n",
    "\n",
    "predicted_class = plant_classes[np.argmax(predictions[0])]\n",
    "print(\"Predicted Class:\", predicted_class)"
   ],
   "metadata": {
    "id": "valO9UMJdHGE",
    "colab": {
     "base_uri": "https://localhost:8080/"
    },
    "outputId": "afe035a6-81bf-4bce-91f4-8117f1d4c652",
    "ExecuteTime": {
     "end_time": "2023-10-11T04:07:25.399638600Z",
     "start_time": "2023-10-11T04:07:25.164072100Z"
    }
   },
   "execution_count": 8,
   "outputs": [
    {
     "name": "stdout",
     "output_type": "stream",
     "text": [
      "1/1 [==============================] - 0s 143ms/step\n",
      "Predicted Class: vishnukanthi\n"
     ]
    }
   ]
  }
 ],
 "metadata": {
  "accelerator": "GPU",
  "colab": {
   "provenance": []
  },
  "kernelspec": {
   "name": "python3",
   "language": "python",
   "display_name": "Python 3 (ipykernel)"
  },
  "language_info": {
   "name": "python"
  }
 },
 "nbformat": 4,
 "nbformat_minor": 0
}

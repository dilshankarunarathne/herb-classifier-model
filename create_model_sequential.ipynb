{
 "cells": [
  {
   "cell_type": "code",
   "execution_count": 1,
   "metadata": {
    "id": "JoRKipSeNoku",
    "ExecuteTime": {
     "end_time": "2023-10-20T02:31:04.781396800Z",
     "start_time": "2023-10-20T02:31:04.774596800Z"
    }
   },
   "outputs": [],
   "source": [
    "import os\n",
    "path_to_plants = \"all_data_using\"\n",
    "plant_classes = os.listdir(path_to_plants)"
   ]
  },
  {
   "cell_type": "code",
   "source": [
    "from tensorflow import keras \n",
    "from tensorflow.keras.models import Sequential\n",
    "from tensorflow.keras.layers import Conv2D, MaxPooling2D, Flatten, Dense\n",
    "import numpy as np\n",
    "from tensorflow.keras.preprocessing import image"
   ],
   "metadata": {
    "id": "ntx20WyNxnmY",
    "is_executing": true,
    "ExecuteTime": {
     "start_time": "2023-10-20T02:31:08.925692300Z"
    }
   },
   "execution_count": null,
   "outputs": []
  },
  {
   "cell_type": "code",
   "source": [
    "train_dir = 'dataset/plants'\n",
    "\n",
    "train_datagen = keras.preprocessing.image.ImageDataGenerator(\n",
    "    rescale=1./255,\n",
    ")\n",
    "\n",
    "batch_size = 50\n",
    "img_height = 150\n",
    "img_width = 150\n",
    "\n",
    "train_data_gen = train_datagen.flow_from_directory(\n",
    "    train_dir,\n",
    "    target_size = (img_height, img_width),\n",
    "    batch_size = batch_size,\n",
    "    class_mode = 'categorical',  \n",
    "    shuffle = True\n",
    ")"
   ],
   "metadata": {
    "id": "LhqD2ExcWtX3",
    "colab": {
     "base_uri": "https://localhost:8080/"
    },
    "outputId": "2edc57fd-cccb-47a3-a799-5bef8ebf75ab",
    "ExecuteTime": {
     "end_time": "2023-10-12T09:57:31.817922200Z",
     "start_time": "2023-10-12T09:57:31.770481200Z"
    }
   },
   "execution_count": 6,
   "outputs": [
    {
     "name": "stdout",
     "output_type": "stream",
     "text": [
      "Found 1149 images belonging to 4 classes.\n"
     ]
    }
   ]
  },
  {
   "cell_type": "code",
   "execution_count": 7,
   "metadata": {
    "id": "5abazWqSl8Ig",
    "ExecuteTime": {
     "end_time": "2023-10-12T09:57:33.027233400Z",
     "start_time": "2023-10-12T09:57:32.793941Z"
    }
   },
   "outputs": [],
   "source": [
    "model = Sequential([\n",
    "    Conv2D(32, (3, 3), activation='relu', input_shape=(150, 150, 3)),\n",
    "    MaxPooling2D(2, 2),\n",
    "    Conv2D(64, (3, 3), activation='relu'),\n",
    "    MaxPooling2D(2, 2),\n",
    "    Conv2D(128, (3, 3), activation='relu'),\n",
    "    MaxPooling2D(2, 2),\n",
    "    Flatten(),\n",
    "    Dense(512, activation='relu'),\n",
    "    Dense(4, activation='softmax') \n",
    "])\n",
    "\n",
    "model.compile(optimizer='adam', loss='categorical_crossentropy', metrics=['accuracy'])"
   ]
  },
  {
   "cell_type": "code",
   "source": [
    "epochs = 10  \n",
    "history = model.fit(\n",
    "    train_data_gen,\n",
    "    epochs=epochs\n",
    ")"
   ],
   "metadata": {
    "colab": {
     "base_uri": "https://localhost:8080/"
    },
    "id": "weUqR1_wCZUg",
    "outputId": "2cdcacb9-41df-4d02-c309-2b0b28603d2e",
    "ExecuteTime": {
     "end_time": "2023-10-12T10:00:10.542157200Z",
     "start_time": "2023-10-12T09:57:33.724962Z"
    }
   },
   "execution_count": 8,
   "outputs": [
    {
     "name": "stdout",
     "output_type": "stream",
     "text": [
      "Epoch 1/10\n",
      "23/23 [==============================] - 21s 877ms/step - loss: 1.3695 - accuracy: 0.4334\n",
      "Epoch 2/10\n",
      "23/23 [==============================] - 14s 591ms/step - loss: 0.9323 - accuracy: 0.6110\n",
      "Epoch 3/10\n",
      "23/23 [==============================] - 14s 625ms/step - loss: 0.6366 - accuracy: 0.7615\n",
      "Epoch 4/10\n",
      "23/23 [==============================] - 15s 652ms/step - loss: 0.4521 - accuracy: 0.8312\n",
      "Epoch 5/10\n",
      "23/23 [==============================] - 15s 625ms/step - loss: 0.2905 - accuracy: 0.8938\n",
      "Epoch 6/10\n",
      "23/23 [==============================] - 16s 687ms/step - loss: 0.2410 - accuracy: 0.9147\n",
      "Epoch 7/10\n",
      "23/23 [==============================] - 16s 699ms/step - loss: 0.1472 - accuracy: 0.9582\n",
      "Epoch 8/10\n",
      "23/23 [==============================] - 14s 605ms/step - loss: 0.0529 - accuracy: 0.9869\n",
      "Epoch 9/10\n",
      "23/23 [==============================] - 14s 587ms/step - loss: 0.0478 - accuracy: 0.9922\n",
      "Epoch 10/10\n",
      "23/23 [==============================] - 16s 677ms/step - loss: 0.0613 - accuracy: 0.9782\n"
     ]
    }
   ]
  },
  {
   "cell_type": "code",
   "execution_count": 9,
   "metadata": {
    "colab": {
     "base_uri": "https://localhost:8080/"
    },
    "id": "ibo5eM2hFpWW",
    "outputId": "a27a00e3-bed5-4bca-cdde-ecabe83905ec",
    "ExecuteTime": {
     "end_time": "2023-10-12T10:00:51.418047500Z",
     "start_time": "2023-10-12T10:00:45.506723900Z"
    }
   },
   "outputs": [
    {
     "name": "stdout",
     "output_type": "stream",
     "text": [
      "23/23 [==============================] - 6s 226ms/step - loss: 0.0280 - accuracy: 0.9930\n",
      "Training Accuracy: 0.9930374026298523\n"
     ]
    }
   ],
   "source": [
    "train_loss, train_accuracy = model.evaluate(train_data_gen)\n",
    "print(\"Training Accuracy:\", train_accuracy)"
   ]
  },
  {
   "cell_type": "code",
   "source": [
    "img_path = 'dataset/test.png'  \n",
    "input_size = (150, 150)\n",
    "\n",
    "img = image.load_img(img_path, target_size=input_size)\n",
    "\n",
    "img_array = image.img_to_array(img)\n",
    "\n",
    "img_array = np.expand_dims(img_array, axis=0)\n",
    "img_array = img_array / 255.0  \n",
    "\n",
    "predictions = model.predict(img_array)\n",
    "\n",
    "plant_classes = ['akkapana', 'iguru', 'non', 'vishnukanthi']  \n",
    "\n",
    "predicted_class = plant_classes[np.argmax(predictions[0])]\n",
    "print(\"Predicted Class:\", predicted_class)"
   ],
   "metadata": {
    "id": "valO9UMJdHGE",
    "colab": {
     "base_uri": "https://localhost:8080/"
    },
    "outputId": "afe035a6-81bf-4bce-91f4-8117f1d4c652",
    "ExecuteTime": {
     "end_time": "2023-10-12T10:00:52.953390400Z",
     "start_time": "2023-10-12T10:00:52.780351200Z"
    }
   },
   "execution_count": 10,
   "outputs": [
    {
     "name": "stdout",
     "output_type": "stream",
     "text": [
      "1/1 [==============================] - 0s 97ms/step\n",
      "Predicted Class: vishnukanthi\n"
     ]
    }
   ]
  }
 ],
 "metadata": {
  "accelerator": "GPU",
  "colab": {
   "provenance": []
  },
  "kernelspec": {
   "name": "python3",
   "language": "python",
   "display_name": "Python 3 (ipykernel)"
  },
  "language_info": {
   "name": "python"
  }
 },
 "nbformat": 4,
 "nbformat_minor": 0
}
